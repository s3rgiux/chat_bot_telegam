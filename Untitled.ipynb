{
 "cells": [
  {
   "cell_type": "code",
   "execution_count": 1,
   "metadata": {},
   "outputs": [
    {
     "name": "stdout",
     "output_type": "stream",
     "text": [
      "Collecting python-telegram-bot==5.3.0\n",
      "  Downloading https://files.pythonhosted.org/packages/d5/a3/a0957391238318a331bb91cfaba913c43797982a9440f1318e03ab9fad69/python_telegram_bot-5.3.0-py2.py3-none-any.whl (154kB)\n",
      "Requirement already satisfied: future>=0.15.2 in c:\\users\\sergio\\anaconda3\\lib\\site-packages (from python-telegram-bot==5.3.0) (0.17.1)\n",
      "Requirement already satisfied: urllib3>=1.10 in c:\\users\\sergio\\anaconda3\\lib\\site-packages (from python-telegram-bot==5.3.0) (1.24.2)\n",
      "Requirement already satisfied: certifi in c:\\users\\sergio\\anaconda3\\lib\\site-packages (from python-telegram-bot==5.3.0) (2019.9.11)\n",
      "Installing collected packages: python-telegram-bot\n",
      "Successfully installed python-telegram-bot-5.3.0\n"
     ]
    }
   ],
   "source": [
    "!pip install python-telegram-bot==5.3.0"
   ]
  },
  {
   "cell_type": "code",
   "execution_count": 3,
   "metadata": {},
   "outputs": [
    {
     "name": "stdout",
     "output_type": "stream",
     "text": [
      "Librerías importadas correctamente\n",
      "Método para clasificar creado correctamente\n"
     ]
    }
   ],
   "source": [
    "import tensorflow as tf\n",
    "import sys\n",
    "import os\n",
    "from telegram.ext import Updater, CommandHandler, MessageHandler, Filters\n",
    "import logging\n",
    "\n",
    "print(\"Librerías importadas correctamente\")\n",
    "def classify(image_path):\n",
    "    # Read the image_data\n",
    "    image_data = tf.io.gfile.GFile(image_path, 'rb').read()\n",
    "\n",
    "    # Loads label file, strips off carriage return\n",
    "    label_lines = [line.rstrip() for line in tf.io.gfile.GFile(\"tf_files/retrained_labels.txt\")]\n",
    "\n",
    "    # Unpersists graph from file\n",
    "    with tf.io.gfile.GFile(\"tf_files/retrained_graph.pb\", 'rb') as f:\n",
    "        graph_def = tf.compat.v1.GraphDef()\n",
    "        graph_def.ParseFromString(f.read())\n",
    "        _ = tf.import_graph_def(graph_def, name='')\n",
    "\n",
    "    with tf.compat.v1.Session() as sess:\n",
    "        # Feed the image_data as input to the graph and get first prediction\n",
    "        softmax_tensor = sess.graph.get_tensor_by_name('final_result:0')\n",
    "        \n",
    "        predictions = sess.run(softmax_tensor, \\\n",
    "                {'DecodeJpeg/contents:0': image_data})\n",
    "        \n",
    "        # Sort to show labels of first prediction in order of confidence\n",
    "        top_k = predictions[0].argsort()[-len(predictions[0]):][::-1]\n",
    "        \n",
    "        result = None\n",
    "        for node_id in top_k:\n",
    "            human_string = label_lines[node_id]\n",
    "            accuracy = predictions[0][node_id]\n",
    "            print('%s (score = %.5f)' % (human_string, accuracy))\n",
    "            if accuracy >= 0.9:\n",
    "                result = human_string\n",
    "    return result\n",
    "\n",
    "print(\"Método para clasificar creado correctamente\")"
   ]
  },
  {
   "cell_type": "code",
   "execution_count": 4,
   "metadata": {},
   "outputs": [
    {
     "name": "stdout",
     "output_type": "stream",
     "text": [
      "token registrado\n"
     ]
    }
   ],
   "source": [
    "# ClassifyImagesBot\n",
    "token = '931496766:AAFe8v3MkmMkeS6OJFXPfAOKnVdYBb_awJg'\n",
    "\n",
    "print(\"token registrado\")"
   ]
  },
  {
   "cell_type": "code",
   "execution_count": 5,
   "metadata": {},
   "outputs": [
    {
     "name": "stdout",
     "output_type": "stream",
     "text": [
      "Bot configurado correctamente\n"
     ]
    }
   ],
   "source": [
    "try:\n",
    "    logging.basicConfig(\n",
    "        format='%(asctime)s - %(name)s - %(levelname)s - %(message)s', level=logging.INFO)\n",
    "    logger = logging.getLogger(__name__)\n",
    "except Exception as e:\n",
    "    print(\"Error logging {}\".format(e.args))\n",
    "\n",
    "def start(bot, update):\n",
    "    try:\n",
    "        username = update.message.from_user.username\n",
    "        message = \"Hello \" + username\n",
    "        update.message.reply_text(message)\n",
    "    except Exception as e:\n",
    "        print(\"Error start {}\".format(e.args))\n",
    "\n",
    "\n",
    "def help(bot, update):\n",
    "    try:\n",
    "        username = update.message.from_user.username\n",
    "        update.message.reply_text('Hello {}, please send a image for classify'.format(username))\n",
    "    except Exception as e:\n",
    "        print(\"Error help {}\".format(e.args))\n",
    "\n",
    "def analize(bot, update):\n",
    "    try:\n",
    "        message = \"Receiving image...\"\n",
    "        update.message.reply_text(message)\n",
    "        print(message)\n",
    "        \n",
    "        photo_file = bot.getFile(update.message.photo[-1].file_id)\n",
    "        id_user = update.message.from_user.id\n",
    "        id_file = photo_file.file_id\n",
    "        id_analisis = str(id_user) + \"-\" + str(id_file)\n",
    "        \n",
    "        filename = os.path.join('downloads/', '{}.jpg'.format(id_analisis))\n",
    "        photo_file.download(filename)\n",
    "        message = \"Image received, analyzing, please wait a few seconds\"\n",
    "        update.message.reply_text(message)\n",
    "        print(message)\n",
    "        \n",
    "        result = classify(filename)\n",
    "        print(result)\n",
    "        update.message.reply_text(result)\n",
    "        print(\"Waiting image..\")\n",
    "    except Exception as e:\n",
    "        print(\"Error analize {}\".format(e.args))\n",
    "\n",
    "\n",
    "def echo(bot, update):\n",
    "    try:\n",
    "        update.message.reply_text(update.message.text)\n",
    "        print(\"Receiving text...\")\n",
    "        print(\"Waiting for another test...\")\n",
    "        print(update.message.from_user)\n",
    "    except Exception as e:\n",
    "        print(\"Error echo {}\".format(e.args))\n",
    "\n",
    "def error(bot, update, error):\n",
    "    try:\n",
    "        logger.warn('Update \"%s\" caused error \"%s\"' % (update, error))\n",
    "    except Exception as e:\n",
    "        print(\"Error error {}\".format(e.args))\n",
    "\n",
    "def main():\n",
    "    try:\n",
    "        print('ClassifyImagesBot init token')\n",
    "\n",
    "        updater = Updater(token)\n",
    "        # Get the dispatcher to register handlers\n",
    "        dp = updater.dispatcher\n",
    "\n",
    "        print('ClassifyImagesBot init dispatcher')\n",
    "\n",
    "\n",
    "        # on different commands - answer in Telegram\n",
    "        dp.add_handler(CommandHandler(\"start\", start))\n",
    "        dp.add_handler(CommandHandler(\"help\", help))\n",
    "\n",
    "        # on noncommand detect the document type on Telegram\n",
    "        dp.add_handler(MessageHandler(Filters.text, echo))\n",
    "        dp.add_handler(MessageHandler(Filters.photo, analize))\n",
    "\n",
    "        # log all errors\n",
    "        dp.add_error_handler(error)\n",
    "\n",
    "        # Start the Bot\n",
    "        updater.start_polling()\n",
    "        print('ClassifyImagesBot ready')\n",
    "        updater.idle()\n",
    "    except Exception as e:\n",
    "        print(\"Error main {}\".format(e.message))\n",
    "\n",
    "print(\"Bot configurado correctamente\")"
   ]
  },
  {
   "cell_type": "code",
   "execution_count": null,
   "metadata": {},
   "outputs": [
    {
     "name": "stdout",
     "output_type": "stream",
     "text": [
      "ClassifyImagesBot init token\n",
      "ClassifyImagesBot init dispatcher\n",
      "ClassifyImagesBot ready\n",
      "Receiving text...\n",
      "Waiting for another test...\n",
      "{'id': 889204612, 'first_name': 'Ser', 'type': '', 'last_name': 'R', 'username': ''}\n",
      "Receiving image...\n",
      "Error analize (2, 'No such file or directory')\n",
      "Receiving image...\n",
      "Image received, analyzing, please wait a few seconds\n",
      "mouse (score = 0.99236)\n",
      "keyboard (score = 0.00764)\n",
      "mouse\n",
      "Waiting image..\n"
     ]
    },
    {
     "name": "stderr",
     "output_type": "stream",
     "text": [
      "2020-02-01 02:08:59,859 - telegram.ext.updater - ERROR - Error while getting Updates: Timed out\n",
      "C:\\Users\\sergio\\Anaconda3\\lib\\site-packages\\ipykernel_launcher.py:60: DeprecationWarning: The 'warn' method is deprecated, use 'warning' instead\n",
      "2020-02-01 02:08:59,869 - __main__ - WARNING - Update \"None\" caused error \"Timed out\"\n",
      "2020-02-01 05:23:53,541 - telegram.ext.updater - ERROR - Error while getting Updates: Timed out\n",
      "2020-02-01 05:23:53,541 - __main__ - WARNING - Update \"None\" caused error \"Timed out\"\n",
      "2020-02-01 05:23:54,546 - urllib3.connectionpool - WARNING - Retrying (Retry(total=2, connect=None, read=None, redirect=None, status=None)) after connection broken by 'NewConnectionError('<urllib3.connection.VerifiedHTTPSConnection object at 0x000002AC0E293B08>: Failed to establish a new connection: [Errno 11001] getaddrinfo failed')': /bot931496766:AAFe8v3MkmMkeS6OJFXPfAOKnVdYBb_awJg/getUpdates\n",
      "2020-02-01 05:23:54,546 - urllib3.connectionpool - WARNING - Retrying (Retry(total=1, connect=None, read=None, redirect=None, status=None)) after connection broken by 'NewConnectionError('<urllib3.connection.VerifiedHTTPSConnection object at 0x000002AC1C6F1D88>: Failed to establish a new connection: [Errno 11001] getaddrinfo failed')': /bot931496766:AAFe8v3MkmMkeS6OJFXPfAOKnVdYBb_awJg/getUpdates\n",
      "2020-02-01 05:23:54,550 - urllib3.connectionpool - WARNING - Retrying (Retry(total=0, connect=None, read=None, redirect=None, status=None)) after connection broken by 'NewConnectionError('<urllib3.connection.VerifiedHTTPSConnection object at 0x000002AC1C6F8448>: Failed to establish a new connection: [Errno 11001] getaddrinfo failed')': /bot931496766:AAFe8v3MkmMkeS6OJFXPfAOKnVdYBb_awJg/getUpdates\n",
      "2020-02-01 05:23:54,550 - telegram.ext.updater - ERROR - Error while getting Updates: urllib3 HTTPError HTTPSConnectionPool(host='api.telegram.org', port=443): Max retries exceeded with url: /bot931496766:AAFe8v3MkmMkeS6OJFXPfAOKnVdYBb_awJg/getUpdates (Caused by NewConnectionError('<urllib3.connection.VerifiedHTTPSConnection object at 0x000002AC1C6F88C8>: Failed to establish a new connection: [Errno 11001] getaddrinfo failed'))\n",
      "2020-02-01 05:23:54,550 - __main__ - WARNING - Update \"None\" caused error \"urllib3 HTTPError HTTPSConnectionPool(host='api.telegram.org', port=443): Max retries exceeded with url: /bot931496766:AAFe8v3MkmMkeS6OJFXPfAOKnVdYBb_awJg/getUpdates (Caused by NewConnectionError('<urllib3.connection.VerifiedHTTPSConnection object at 0x000002AC1C6F88C8>: Failed to establish a new connection: [Errno 11001] getaddrinfo failed'))\"\n"
     ]
    }
   ],
   "source": [
    "if __name__ == '__main__':\n",
    "    try:\n",
    "        main()\n",
    "    except Exception as e:\n",
    "        print(\"Error name: {}\".format(e.args))"
   ]
  },
  {
   "cell_type": "code",
   "execution_count": null,
   "metadata": {},
   "outputs": [],
   "source": []
  }
 ],
 "metadata": {
  "kernelspec": {
   "display_name": "Python 3",
   "language": "python",
   "name": "python3"
  },
  "language_info": {
   "codemirror_mode": {
    "name": "ipython",
    "version": 3
   },
   "file_extension": ".py",
   "mimetype": "text/x-python",
   "name": "python",
   "nbconvert_exporter": "python",
   "pygments_lexer": "ipython3",
   "version": "3.7.4"
  }
 },
 "nbformat": 4,
 "nbformat_minor": 2
}
